# -*- coding: utf-8 -*-
"""
Spyder Editor

This is a temporary script file.
"""

# -*- coding: utf-8 -*-
# *** Spyder Python Console History Log ***

## ---(Mon Jan 13 09:30:45 2020)---
1+2
b = -2.5
print (b)
print (type(b))
help("float")
print (b.__abs__())
print (abs(b))
b?
b.is_integer
print(b)
c = 3
print (c, type(c))
print (c+1)
print (c**2)
print(c+b), type(c+b))
print(c+b, type(c+b))
c = float(c)
c = float(c))
print (c, type(c))
n = None
print (n, type(n))
t
t = True
f = False
print(t, type(t), f, type(f))
print (t and f)
s1 = 'hello'
s2 = "hello"
print (s1, s2, type(s1), type(s2))
print (len(s1))
print (len(s2))
s1 == s2
print (s1.capitalize))
print s1.capitalize())
print (s1.capitalize())
print (s1.upper())
print (s1.rjust(7))
print (s1.center(7))
print (s1.replace('l', '(ell)'))
print ('      world'.strip())
xs = [3,1,2]
print xs
print (xs)
print (xs[0])
xs[1] = "hello again"
print (xs)
print (type(xs), type(xs[0]), type(xs[1]))
xs.append(99.99)
print (xs)
x = xs.pop(20)
x = xs.pop(2)
print x
print (x)
print (xs)
xbig = [xs, 1, 'hello']
print (xbig)
nums = list(range(5))
print (nums)
print (nums[2:4])
print (nums[2:])
print (nums[:2])
print (nums[:])
print (nums[:-1])
print (nums[:-2])
print (nums[-2:])
nums[2:4] = [88,99]
print(nums)
t = (5,6)
print (t, type(t))
dict2 = {(x, x + 1): x for x in range(6)}
print (dict2)
print (dict2[t])
print(dict2[(1,2)])
t[0]=1
dct = {'cat':'cute','dog':'furry'}
print (dct, type(dct))
print (dct['cat'])
print (dct.keys())
print (dct.values())
print (dct.items())
print('cat' in dct)
dct['fish'] = 'wet'
print (dct['fish'])
dct['dog'] = 'friendly'
print (dct)
del dct['cat']
print (dct)
dct[12] = 8
print (dct)
print (dct['monkey'])
print(dct.get('monkey' , 'N/A'))
help("dict")
print (dct.get('fish', 'N/A'))
animals = {'cat', 'dog'}
print (animals, type(animals))
print ('cat' in animals)
print ('fish' in animals)
animals.add('cat')
print (animals)
animals.add('fish')
print (animals)
animals.remove('cat')
print (animals)
b =2
if b < 0:
b = 2
if b < 0:
    print ("It's negative")
elif b == 0:
    print ('Equal to zero')
elif 0 < b < 5:
    print ('Positive but smaller than 5')
else:
    print ('Positive and larger than 5')
    
x = 256
total = 0
while x > 0:
    if total > 500:
        break        # leaves the loop
    total += x
    x = x // 2
    print (x, total)
print ('finally, the values are: ', x, total)


sum = 0
for i in range(5): 
    sum += i
print (sum)


sequence = [1, 2, None, 4, None, 5]
total = 0
for value in sequence:
    if value is None:      # what does keyword 'is' do?
        continue           # skip the rest of the block, keep looping
    total += value
print (total)


dct = {'cat': 'cute', 'dog': 'furry', 'fish': 'wet'}  
for key in dct:                    
    print (key)
for key,value in dct.items():      
    print (key, 'is', value)
    
print ([x*x for x in range(1,6)])
strings = ['a', 'as', 'bat', 'car', 'dove', 'python']
print ([x.upper() for x in strings if len(x) > 2])


print ({val:index for index, val in enumerate(strings)})
def sign(x):             
    if x > 0:
        return 'positive'
    elif x < 0:
        return 'negative'
    else:
        return 0         

for x in [-1, 0, 1]:
    print (sign(x))
    
def hello(name, loud=False):      
    if loud:
        print ('HELLO, %s' % name.upper())
    else:
        print ('Hello, %s!' % name)

hello('Bob')
hello('Fred', True)


class Greeter:

    # Constructor
    def __init__(self, name):
        self.name = name  # Create an instance variable

    # Instance method
    def greet(self, loud=False):
        if loud:
            print ('HELLO, %s!' % self.name.upper())
        else:
            print ('Hello, %s' % self.name)

g = Greeter('Fred')  
g.greet()            
g.greet(loud=True)   


def sum_of_anything(x,y,f):
    print (x,y,f)
    return(f(x) + f(y))
sum_of_anything(3,4,lambda x: x*x)


import datetime
print (datetime.date(2017, 1, 17))
print (datetime.date(2020, 1, 13))
import numpy
print (numpy.random.rand(4,3), '\n')
import numpy as np
print (np.random.rand(4,3), '\n')
from numpy.random import rand
print (rand(4,3))