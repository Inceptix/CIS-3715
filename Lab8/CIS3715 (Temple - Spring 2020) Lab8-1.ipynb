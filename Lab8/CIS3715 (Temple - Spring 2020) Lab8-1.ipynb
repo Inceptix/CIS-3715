{
 "cells": [
  {
   "cell_type": "markdown",
   "metadata": {
    "slideshow": {
     "slide_type": "slide"
    }
   },
   "source": [
    "# Lab 8: Neural Network\n",
    "\n",
    "In this lab, we will start with neural network. We will learn how to build and a train a neural network using Python library Keras."
   ]
  },
  {
   "cell_type": "markdown",
   "metadata": {},
   "source": [
    "## Lab 8. Part0: Classify hand-written digits"
   ]
  },
  {
   "cell_type": "markdown",
   "metadata": {},
   "source": [
    "We will take a look at a first concrete example of a neural network using Keras library: https://keras.io/. First, you have to install Keras library. Here is the instructions: https://keras.io/#installation. As you saw in documentation you have first to install TensorFlow, Theano, or CNTK and then Keras library. We recommend the TensorFlow backend. <br>\n",
    "We will learn how to classify hand-written digits. Unless you already have experience with Keras or similar libraries, you will not understand everything about this first example right away. Don't worry if some steps seem arbitrary or look like magic to you! We've got to start somewhere.\n",
    "\n",
    "The problem we are trying to solve here is to classify grayscale images of handwritten digits (28 pixels by 28 pixels), into their 10 categories (0 to 9). The dataset we will use is the MNIST dataset, a classic dataset in the machine learning community, which has been around for almost as long as the field itself and has been very intensively studied. It's a set of 60,000 training images, plus 10,000 test images, assembled by the National Institute of Standards and Technology (the NIST in MNIST) in the 1980s. You can think of \"solving\" MNIST as the \"Hello World\" of deep learning -- it's what you do to verify that your algorithms are working as expected. As you get deep in machine learning field, you will see MNIST come up over and over again, in scientific papers, blog posts, and so on.\n",
    "\n",
    "The MNIST dataset comes pre-loaded in Keras, in the form of a set of four Numpy arrays:"
   ]
  },
  {
   "cell_type": "code",
   "execution_count": 1,
   "metadata": {},
   "outputs": [
    {
     "name": "stderr",
     "output_type": "stream",
     "text": [
      "Using TensorFlow backend.\n"
     ]
    },
    {
     "data": {
      "text/plain": [
       "'2.3.1'"
      ]
     },
     "execution_count": 1,
     "metadata": {},
     "output_type": "execute_result"
    }
   ],
   "source": [
    "import keras\n",
    "keras.__version__"
   ]
  },
  {
   "cell_type": "markdown",
   "metadata": {},
   "source": [
    "The MNIST dataset comes pre-loaded in Keras, in the form of a set of four Numpy arrays:"
   ]
  },
  {
   "cell_type": "code",
   "execution_count": 100,
   "metadata": {},
   "outputs": [],
   "source": [
    "from keras.datasets import mnist\n",
    "\n",
    "(train_images, train_labels), (test_images, test_labels) = mnist.load_data()"
   ]
  },
  {
   "cell_type": "markdown",
   "metadata": {},
   "source": [
    "Our images are encoded as Numpy arrays, and the labels are simply an array of digits, ranging from 0 to 9. There is a one-to-one correspondence between the images and the labels.<br>\n",
    "Let's have a look at the training data:"
   ]
  },
  {
   "cell_type": "code",
   "execution_count": 101,
   "metadata": {},
   "outputs": [
    {
     "data": {
      "text/plain": [
       "(60000, 28, 28)"
      ]
     },
     "execution_count": 101,
     "metadata": {},
     "output_type": "execute_result"
    }
   ],
   "source": [
    "train_images.shape"
   ]
  },
  {
   "cell_type": "markdown",
   "metadata": {},
   "source": [
    "#### Question 1: Could you explain what each number means?"
   ]
  },
  {
   "cell_type": "markdown",
   "metadata": {},
   "source": [
    "There are 60,000 images all which are size 28x28"
   ]
  },
  {
   "cell_type": "markdown",
   "metadata": {},
   "source": [
    "Our workflow will be as follow: first we will present our neural network with the training data, train_images and train_labels. The network will then learn to associate images and labels. Finally, we will ask the network to produce predictions for test_images, and we will verify if these predictions match the labels from test_labels. Let's build our network:"
   ]
  },
  {
   "cell_type": "code",
   "execution_count": 102,
   "metadata": {},
   "outputs": [],
   "source": [
    "from keras import models\n",
    "from keras import layers\n",
    "\n",
    "network = models.Sequential()\n",
    "network.add(layers.Dense(512, activation='relu', input_shape=(28 * 28,)))\n",
    "network.add(layers.Dense(10, activation='softmax'))"
   ]
  },
  {
   "cell_type": "markdown",
   "metadata": {},
   "source": [
    "The core building block of neural networks is the \"layer\", a data-processing module which you can conceive as a \"filter\" for data. Some \n",
    "data comes in, and comes out in a more useful form. Precisely, layers extract _representations_ out of the data fed into them -- hopefully \n",
    "representations that are more meaningful for the problem at hand. Most of deep learning really consists of chaining together simple layers \n",
    "which will implement a form of progressive \"data distillation\". A deep learning model is like a sieve for data processing, made of a \n",
    "succession of increasingly refined data filters -- the \"layers\".\n",
    "\n",
    "Here our network consists of a sequence of two `Dense` layers, which are densely-connected (also called \"fully-connected\") neural layers. \n",
    "The second (and last) layer is a 10-way \"softmax\" layer, which means it will return an array of 10 probability scores (summing to 1). Each \n",
    "score will be the probability that the current digit image belongs to one of our 10 digit classes."
   ]
  },
  {
   "cell_type": "markdown",
   "metadata": {},
   "source": [
    "#### Question 2: Could you explain why we use 'relu' in first layer and 'softmax' in the second layer?"
   ]
  },
  {
   "cell_type": "markdown",
   "metadata": {},
   "source": [
    "**Answer 2** Having relu as the first layer and softmax as the second layer ensures that back propagation gets done well. Usually when hacing different layers it is best to place the relu layers first as it has really good properties such as sparsity and a reduced likelihood of vanishing gradient."
   ]
  },
  {
   "cell_type": "markdown",
   "metadata": {},
   "source": [
    "To make our network ready for training, we need to pick three more things, as part of \"compilation\" step:\n",
    "\n",
    "* A loss function: this is how the network will be able to measure how good a job it is doing on its training data, and thus how it will be \n",
    "able to steer itself in the right direction.\n",
    "* An optimizer: this is the mechanism through which the network will update itself based on the data it sees and its loss function.\n",
    "* Metrics to monitor during training and testing. Here we will only care about accuracy (the fraction of the images that were correctly \n",
    "classified)."
   ]
  },
  {
   "cell_type": "code",
   "execution_count": 103,
   "metadata": {},
   "outputs": [],
   "source": [
    "network.compile(optimizer='rmsprop',\n",
    "                loss='categorical_crossentropy',\n",
    "                metrics=['accuracy'])"
   ]
  },
  {
   "cell_type": "markdown",
   "metadata": {},
   "source": [
    "#### Question 3: Could you explain why we use 'categorical_crossentropy'for loss function?"
   ]
  },
  {
   "cell_type": "markdown",
   "metadata": {},
   "source": [
    "Categorical crossentropy is a loss function that is used for single label categorization. This is when only one category is applicable for each data point. In other words, an example can belong to one class only. This is good for predicting images or labels."
   ]
  },
  {
   "cell_type": "markdown",
   "metadata": {},
   "source": [
    "Before training, we will preprocess our data by reshaping it into the shape that the network expects, and scaling it so that all values are in \n",
    "the `[0, 1]` interval. Previously, our training images for instance were stored in an array of shape `(60000, 28, 28)` of type `uint8` with \n",
    "values in the `[0, 255]` interval. We transform it into a `float32` array of shape `(60000, 28 * 28)` with values between 0 and 1."
   ]
  },
  {
   "cell_type": "code",
   "execution_count": 104,
   "metadata": {},
   "outputs": [],
   "source": [
    "train_images = train_images.reshape((60000, 28 * 28))\n",
    "train_images = train_images.astype('float32') / 255\n",
    "\n",
    "test_images = test_images.reshape((10000, 28 * 28))\n",
    "test_images = test_images.astype('float32') / 255"
   ]
  },
  {
   "cell_type": "code",
   "execution_count": 105,
   "metadata": {},
   "outputs": [
    {
     "data": {
      "text/plain": [
       "array([0, 1, 2, 3, 4, 5, 6, 7, 8, 9], dtype=uint8)"
      ]
     },
     "execution_count": 105,
     "metadata": {},
     "output_type": "execute_result"
    }
   ],
   "source": [
    "import numpy as np\n",
    "np.unique(train_labels)"
   ]
  },
  {
   "cell_type": "markdown",
   "metadata": {},
   "source": [
    "As you could see from the result above that labels are digits, ranging from 0 to 9. We will turn them into vectors of 0s and 1s. We will do that with categorically encoding. Concretely, this means for instance turning the sequence [3, 5] into a 60,000-dimensional vector that would be all-zeros except for indices 3 and 5, which would be ones."
   ]
  },
  {
   "cell_type": "code",
   "execution_count": 106,
   "metadata": {},
   "outputs": [],
   "source": [
    "from keras.utils import to_categorical\n",
    "\n",
    "train_labels = to_categorical(train_labels)\n",
    "test_labels = to_categorical(test_labels)"
   ]
  },
  {
   "cell_type": "markdown",
   "metadata": {},
   "source": [
    "We are now ready to train our network, which in Keras is done via a call to the `fit` method of the network: \n",
    "we \"fit\" the model to its training data."
   ]
  },
  {
   "cell_type": "code",
   "execution_count": 107,
   "metadata": {},
   "outputs": [
    {
     "name": "stdout",
     "output_type": "stream",
     "text": [
      "Epoch 1/5\n",
      "60000/60000 [==============================] - 2s 30us/step - loss: 0.2536 - accuracy: 0.9268\n",
      "Epoch 2/5\n",
      "60000/60000 [==============================] - 2s 29us/step - loss: 0.1057 - accuracy: 0.9680\n",
      "Epoch 3/5\n",
      "60000/60000 [==============================] - 2s 29us/step - loss: 0.0697 - accuracy: 0.9791\n",
      "Epoch 4/5\n",
      "60000/60000 [==============================] - 2s 29us/step - loss: 0.0501 - accuracy: 0.9850\n",
      "Epoch 5/5\n",
      "60000/60000 [==============================] - 2s 29us/step - loss: 0.0370 - accuracy: 0.9890\n"
     ]
    },
    {
     "data": {
      "text/plain": [
       "<keras.callbacks.callbacks.History at 0x1b1250bdfd0>"
      ]
     },
     "execution_count": 107,
     "metadata": {},
     "output_type": "execute_result"
    }
   ],
   "source": [
    "network.fit(train_images, train_labels, epochs=5, batch_size=128)"
   ]
  },
  {
   "cell_type": "markdown",
   "metadata": {},
   "source": [
    "Two quantities are being displayed during training: the \"loss\" of the network over the training data, and the accuracy of the network over \n",
    "the training data.\n",
    "\n",
    "We quickly reach an accuracy of 0.989 (i.e. 98.9%) on the training data. Now let's check that our model performs well on the test set too:"
   ]
  },
  {
   "cell_type": "code",
   "execution_count": 108,
   "metadata": {},
   "outputs": [
    {
     "name": "stdout",
     "output_type": "stream",
     "text": [
      "10000/10000 [==============================] - 0s 16us/step\n"
     ]
    }
   ],
   "source": [
    "test_loss, test_acc = network.evaluate(test_images, test_labels)"
   ]
  },
  {
   "cell_type": "code",
   "execution_count": 110,
   "metadata": {},
   "outputs": [
    {
     "name": "stdout",
     "output_type": "stream",
     "text": [
      "test_acc: 0.9800000190734863\n"
     ]
    }
   ],
   "source": [
    "print('test_acc:', test_acc)"
   ]
  },
  {
   "cell_type": "markdown",
   "metadata": {},
   "source": [
    "Our test set accuracy turns out to be 97.8% -- that's quite a bit lower than the training set accuracy. "
   ]
  },
  {
   "cell_type": "markdown",
   "metadata": {},
   "source": [
    "#### Question 4: What will be an example of overfiting here?"
   ]
  },
  {
   "cell_type": "markdown",
   "metadata": {},
   "source": [
    "It looks like because the model is reporting better accuracy on the training set it is training too much only for the samples in the training set and is the reason why it performs slightly worse on the test set."
   ]
  },
  {
   "cell_type": "markdown",
   "metadata": {},
   "source": [
    "#### Question 5: Try to play with numbers of epochs and batch_size. What is your result compared to what we got?"
   ]
  },
  {
   "cell_type": "code",
   "execution_count": 241,
   "metadata": {},
   "outputs": [
    {
     "name": "stdout",
     "output_type": "stream",
     "text": [
      "Epoch 1/10\n",
      "60000/60000 [==============================] - 3s 55us/step - loss: 0.0345 - accuracy: 0.9895\n",
      "Epoch 2/10\n",
      "60000/60000 [==============================] - 3s 50us/step - loss: 0.0261 - accuracy: 0.9922\n",
      "Epoch 3/10\n",
      "60000/60000 [==============================] - 3s 50us/step - loss: 0.0215 - accuracy: 0.9937\n",
      "Epoch 4/10\n",
      "60000/60000 [==============================] - 3s 51us/step - loss: 0.0169 - accuracy: 0.9950\n",
      "Epoch 5/10\n",
      "60000/60000 [==============================] - 3s 51us/step - loss: 0.0136 - accuracy: 0.9959\n",
      "Epoch 6/10\n",
      "60000/60000 [==============================] - 3s 50us/step - loss: 0.0114 - accuracy: 0.9964\n",
      "Epoch 7/10\n",
      "60000/60000 [==============================] - 3s 50us/step - loss: 0.0088 - accuracy: 0.9975\n",
      "Epoch 8/10\n",
      "60000/60000 [==============================] - 3s 50us/step - loss: 0.0066 - accuracy: 0.9980\n",
      "Epoch 9/10\n",
      "60000/60000 [==============================] - 3s 50us/step - loss: 0.0065 - accuracy: 0.9980\n",
      "Epoch 10/10\n",
      "60000/60000 [==============================] - 3s 51us/step - loss: 0.0048 - accuracy: 0.9985\n"
     ]
    },
    {
     "data": {
      "text/plain": [
       "<keras.callbacks.callbacks.History at 0x1b1023cb5f8>"
      ]
     },
     "execution_count": 241,
     "metadata": {},
     "output_type": "execute_result"
    }
   ],
   "source": [
    "network.fit(train_images, train_labels, epochs=10, batch_size=64)"
   ]
  },
  {
   "cell_type": "code",
   "execution_count": 242,
   "metadata": {},
   "outputs": [
    {
     "name": "stdout",
     "output_type": "stream",
     "text": [
      "10000/10000 [==============================] - 0s 19us/step\n",
      "test_acc: 0.9825000166893005\n"
     ]
    }
   ],
   "source": [
    "test_loss, test_acc = network.evaluate(test_images, test_labels)\n",
    "print('test_acc:', test_acc)"
   ]
  },
  {
   "cell_type": "markdown",
   "metadata": {},
   "source": [
    "Halving the batch size but doubling the epochs gave us a boost of .25% in test accuracy. The accuracy in the training data almost went to 100% which might show more overfitting. "
   ]
  },
  {
   "cell_type": "code",
   "execution_count": 243,
   "metadata": {},
   "outputs": [
    {
     "name": "stdout",
     "output_type": "stream",
     "text": [
      "Epoch 1/10\n",
      "60000/60000 [==============================] - 2s 30us/step - loss: 0.0025 - accuracy: 0.9994\n",
      "Epoch 2/10\n",
      "60000/60000 [==============================] - 2s 29us/step - loss: 0.0018 - accuracy: 0.9996\n",
      "Epoch 3/10\n",
      "60000/60000 [==============================] - 2s 29us/step - loss: 0.0014 - accuracy: 0.9997\n",
      "Epoch 4/10\n",
      "60000/60000 [==============================] - 2s 29us/step - loss: 9.3825e-04 - accuracy: 0.9998\n",
      "Epoch 5/10\n",
      "60000/60000 [==============================] - 2s 29us/step - loss: 9.1121e-04 - accuracy: 0.9997\n",
      "Epoch 6/10\n",
      "60000/60000 [==============================] - 2s 29us/step - loss: 6.5919e-04 - accuracy: 0.9999\n",
      "Epoch 7/10\n",
      "60000/60000 [==============================] - 2s 29us/step - loss: 4.0585e-04 - accuracy: 0.9999\n",
      "Epoch 8/10\n",
      "60000/60000 [==============================] - 2s 29us/step - loss: 2.9871e-04 - accuracy: 0.9999\n",
      "Epoch 9/10\n",
      "60000/60000 [==============================] - 2s 29us/step - loss: 3.6638e-04 - accuracy: 0.9999\n",
      "Epoch 10/10\n",
      "60000/60000 [==============================] - 2s 29us/step - loss: 3.3348e-04 - accuracy: 0.9999\n"
     ]
    },
    {
     "data": {
      "text/plain": [
       "<keras.callbacks.callbacks.History at 0x1b1108ac438>"
      ]
     },
     "execution_count": 243,
     "metadata": {},
     "output_type": "execute_result"
    }
   ],
   "source": [
    "network.fit(train_images, train_labels, epochs=10, batch_size=128)"
   ]
  },
  {
   "cell_type": "code",
   "execution_count": 244,
   "metadata": {},
   "outputs": [
    {
     "name": "stdout",
     "output_type": "stream",
     "text": [
      "10000/10000 [==============================] - 0s 16us/step\n",
      "test_acc: 0.9843999743461609\n"
     ]
    }
   ],
   "source": [
    "test_loss, test_acc = network.evaluate(test_images, test_labels)\n",
    "print('test_acc:', test_acc)"
   ]
  },
  {
   "cell_type": "markdown",
   "metadata": {},
   "source": [
    "Testing accuracy still went up by .2% but training accuracy went to 100%."
   ]
  },
  {
   "cell_type": "code",
   "execution_count": 245,
   "metadata": {},
   "outputs": [
    {
     "name": "stdout",
     "output_type": "stream",
     "text": [
      "Epoch 1/20\n",
      "60000/60000 [==============================] - 5s 89us/step - loss: 0.0014 - accuracy: 0.9995\n",
      "Epoch 2/20\n",
      "60000/60000 [==============================] - 5s 88us/step - loss: 9.2948e-04 - accuracy: 0.9997\n",
      "Epoch 3/20\n",
      "60000/60000 [==============================] - 5s 88us/step - loss: 0.0015 - accuracy: 0.9996\n",
      "Epoch 4/20\n",
      "60000/60000 [==============================] - 5s 88us/step - loss: 8.8709e-04 - accuracy: 0.9997\n",
      "Epoch 5/20\n",
      "60000/60000 [==============================] - 5s 88us/step - loss: 0.0011 - accuracy: 0.9996\n",
      "Epoch 6/20\n",
      "60000/60000 [==============================] - 5s 88us/step - loss: 7.3283e-04 - accuracy: 0.9998\n",
      "Epoch 7/20\n",
      "60000/60000 [==============================] - 5s 89us/step - loss: 7.6622e-04 - accuracy: 0.9998\n",
      "Epoch 8/20\n",
      "60000/60000 [==============================] - 5s 87us/step - loss: 6.1789e-04 - accuracy: 0.9998\n",
      "Epoch 9/20\n",
      "60000/60000 [==============================] - 5s 88us/step - loss: 5.4104e-04 - accuracy: 0.9998\n",
      "Epoch 10/20\n",
      "60000/60000 [==============================] - 5s 88us/step - loss: 6.3761e-04 - accuracy: 0.9998\n",
      "Epoch 11/20\n",
      "60000/60000 [==============================] - 5s 88us/step - loss: 3.3539e-04 - accuracy: 0.9999\n",
      "Epoch 12/20\n",
      "60000/60000 [==============================] - 5s 88us/step - loss: 3.1687e-04 - accuracy: 0.9999\n",
      "Epoch 13/20\n",
      "60000/60000 [==============================] - 5s 89us/step - loss: 2.6229e-04 - accuracy: 0.9999\n",
      "Epoch 14/20\n",
      "60000/60000 [==============================] - 5s 91us/step - loss: 1.7440e-04 - accuracy: 0.9999\n",
      "Epoch 15/20\n",
      "60000/60000 [==============================] - 5s 91us/step - loss: 2.4107e-04 - accuracy: 0.9999\n",
      "Epoch 16/20\n",
      "60000/60000 [==============================] - 5s 89us/step - loss: 6.8157e-05 - accuracy: 1.0000\n",
      "Epoch 17/20\n",
      "60000/60000 [==============================] - 5s 90us/step - loss: 8.5187e-05 - accuracy: 0.9999\n",
      "Epoch 18/20\n",
      "60000/60000 [==============================] - 6s 95us/step - loss: 4.2337e-05 - accuracy: 1.0000\n",
      "Epoch 19/20\n",
      "60000/60000 [==============================] - 5s 89us/step - loss: 5.3024e-05 - accuracy: 1.0000\n",
      "Epoch 20/20\n",
      "60000/60000 [==============================] - 6s 93us/step - loss: 2.2399e-05 - accuracy: 1.0000\n"
     ]
    },
    {
     "data": {
      "text/plain": [
       "<keras.callbacks.callbacks.History at 0x1b1108ac278>"
      ]
     },
     "execution_count": 245,
     "metadata": {},
     "output_type": "execute_result"
    }
   ],
   "source": [
    "network.fit(train_images, train_labels, epochs=20, batch_size=32)"
   ]
  },
  {
   "cell_type": "code",
   "execution_count": 246,
   "metadata": {},
   "outputs": [
    {
     "name": "stdout",
     "output_type": "stream",
     "text": [
      "10000/10000 [==============================] - 0s 17us/step\n",
      "test_acc: 0.9818999767303467\n"
     ]
    }
   ],
   "source": [
    "test_loss, test_acc = network.evaluate(test_images, test_labels)\n",
    "print('test_acc:', test_acc)"
   ]
  },
  {
   "cell_type": "markdown",
   "metadata": {},
   "source": [
    "Testing accuracy didn't improve much."
   ]
  },
  {
   "cell_type": "markdown",
   "metadata": {},
   "source": [
    "This concludes our very first example of neural network. We learn how we could build and a train a neural network to classify handwritten digits."
   ]
  },
  {
   "cell_type": "markdown",
   "metadata": {},
   "source": [
    "## Lab 8, Part 1:   Convolutional Neural Networks (CNN) "
   ]
  },
  {
   "cell_type": "markdown",
   "metadata": {},
   "source": [
    "In this Part1, we will learn how to train CNNs. All the code is provided. The code is allowing you to prepare the data and train a CNN that classifies which digit is written in an image provided at its input. We will show how you can train 4 different CNN, ranging from simple to more complex, and let you observe how it impacts classification accuracy. "
   ]
  },
  {
   "cell_type": "markdown",
   "metadata": {
    "slideshow": {
     "slide_type": "subslide"
    }
   },
   "source": [
    "CNN training can take quite a bit of time (particularly if GPU isn't used), so we will create a training data set that uses a subset of available data. In particular, we will define the classification problem as recognizing whether a digit in an image is 7 or not. The following piece of code shows the data preparation steps."
   ]
  },
  {
   "cell_type": "code",
   "execution_count": 13,
   "metadata": {
    "slideshow": {
     "slide_type": "subslide"
    }
   },
   "outputs": [],
   "source": [
    "#Import the required libraries\n",
    "import numpy as np\n",
    "from keras.models import Sequential\n",
    "from keras.layers.core import Dense, Dropout, Activation, Flatten\n",
    "from keras.layers.convolutional import Conv2D\n",
    "from keras.layers.pooling import MaxPooling2D\n",
    "from keras.utils import np_utils\n",
    "from keras.optimizers import SGD"
   ]
  },
  {
   "cell_type": "markdown",
   "metadata": {
    "slideshow": {
     "slide_type": "subslide"
    }
   },
   "source": [
    "The following block selects a subset of images from the MNIST data."
   ]
  },
  {
   "cell_type": "code",
   "execution_count": 185,
   "metadata": {
    "slideshow": {
     "slide_type": "-"
    }
   },
   "outputs": [],
   "source": [
    "#Load the training and testing data\n",
    "(X_train, y_train), (X_test, y_test) = mnist.load_data()\n",
    "X_test_orig = X_test\n",
    "\n",
    "# Select the subset from the train data for the sake of time.\n",
    "np.random.seed(1)  # for reproducibilty!!\n",
    "# The subset is composed of all the examples where the digit is 7, and 20,000 examples are not 7.\n",
    "sevens = np.where(y_train == 7)[0].tolist()\n",
    "not_sevens = np.where(y_train != 7)[0].tolist()\n",
    "num_keepers = 20000\n",
    "not_sevens = np.random.choice(not_sevens, num_keepers, replace=False).tolist()\n",
    "\n",
    "subset = sevens + not_sevens\n",
    "np.random.shuffle(subset) # shuffle the input\n",
    "\n",
    "X_train = X_train[subset, :, :]\n",
    "y_train = y_train[subset]"
   ]
  },
  {
   "cell_type": "code",
   "execution_count": 188,
   "metadata": {},
   "outputs": [
    {
     "name": "stdout",
     "output_type": "stream",
     "text": [
      "(26265, 28, 28) (10000, 28, 28) (26265,) (10000,)\n"
     ]
    }
   ],
   "source": [
    "print(X_train.shape, X_test.shape, y_train.shape, y_test.shape)"
   ]
  },
  {
   "cell_type": "markdown",
   "metadata": {},
   "source": [
    "The following code creates training and test data. It would be great if you can spend a few minutes trying to understand what is going on."
   ]
  },
  {
   "cell_type": "code",
   "execution_count": 189,
   "metadata": {},
   "outputs": [],
   "source": [
    "from keras import backend as K\n",
    "\n",
    "img_rows, img_cols = 28, 28\n",
    "\n",
    "if K.image_data_format() == 'channels_first':\n",
    "    shape_ord = (1, img_rows, img_cols)\n",
    "else:  # channel_last\n",
    "    shape_ord = (img_rows, img_cols, 1)\n",
    "\n",
    "# Normalize the images:\n",
    "\n",
    "X_train = X_train.reshape((X_train.shape[0],) + shape_ord)\n",
    "X_test = X_test.reshape((X_test.shape[0],) + shape_ord)\n",
    "\n",
    "X_train = X_train.astype('float32')\n",
    "X_test = X_test.astype('float32')\n",
    "\n",
    "X_train /= 255\n",
    "X_test /= 255\n",
    "\n",
    "\n",
    "# Converting the labels to binary classification(Seven =1,Not Seven=0)\n",
    "Y_train = (y_train == 7).astype(int)\n",
    "Y_test = (y_test == 7).astype(int)\n",
    "\n",
    "# Converting the classes to its binary categorical form\n",
    "nb_classes = 2\n",
    "Y_train = np_utils.to_categorical(Y_train, nb_classes)\n",
    "Y_test = np_utils.to_categorical(Y_test, nb_classes)"
   ]
  },
  {
   "cell_type": "code",
   "execution_count": 190,
   "metadata": {},
   "outputs": [
    {
     "name": "stdout",
     "output_type": "stream",
     "text": [
      "(26265, 28, 28, 1) (10000, 28, 28, 1) (26265, 2) (10000, 2)\n"
     ]
    }
   ],
   "source": [
    "print(X_train.shape, X_test.shape, Y_train.shape, Y_test.shape)"
   ]
  },
  {
   "cell_type": "markdown",
   "metadata": {
    "slideshow": {
     "slide_type": "slide"
    }
   },
   "source": [
    "### Train a simple CNN (CNN, model 1)\n",
    "\n",
    "The following code will show how you can define CNN, train it, and test its accuracy. "
   ]
  },
  {
   "cell_type": "markdown",
   "metadata": {},
   "source": [
    "**Step 0.** The following is a preparation step, specifying the hyperparameters."
   ]
  },
  {
   "cell_type": "code",
   "execution_count": 33,
   "metadata": {
    "slideshow": {
     "slide_type": "subslide"
    }
   },
   "outputs": [],
   "source": [
    "# -- Initializing the values for the convolution neural network\n",
    "\n",
    "nb_epoch = 2  # kept very low! Please increase if you have GPU\n",
    "\n",
    "batch_size = 64\n",
    "# number of convolutional filters to use\n",
    "nb_filters = 32\n",
    "# size of pooling area for max pooling\n",
    "nb_pool = 2\n",
    "# convolution kernel size\n",
    "nb_conv = 3\n",
    "\n",
    "# Vanilla SGD\n",
    "sgd = SGD(lr=0.1, decay=1e-6, momentum=0.9, nesterov=True)"
   ]
  },
  {
   "cell_type": "markdown",
   "metadata": {
    "slideshow": {
     "slide_type": "subslide"
    }
   },
   "source": [
    "**Step 1.** In this step we define architecture of the CNN\n",
    "\n",
    "Each line \"model.add()\" adds another layer to the neural network. The type of layer must be specified. "
   ]
  },
  {
   "cell_type": "code",
   "execution_count": 34,
   "metadata": {},
   "outputs": [],
   "source": [
    "model = Sequential()\n",
    "\n",
    "model.add(Conv2D(nb_filters, (nb_conv, nb_conv), padding='valid', \n",
    "                 input_shape=shape_ord))  # note: the very first layer **must** always specify the input_shape\n",
    "model.add(Activation('relu'))\n",
    "model.add(MaxPooling2D(pool_size=(26, 26)))\n",
    "model.add(Flatten())\n",
    "model.add(Dense(nb_classes))\n",
    "model.add(Activation('softmax'))"
   ]
  },
  {
   "cell_type": "markdown",
   "metadata": {},
   "source": [
    "We can check the configuration of the above model by call model.summary()"
   ]
  },
  {
   "cell_type": "code",
   "execution_count": 35,
   "metadata": {},
   "outputs": [
    {
     "name": "stdout",
     "output_type": "stream",
     "text": [
      "Model: \"sequential_4\"\n",
      "_________________________________________________________________\n",
      "Layer (type)                 Output Shape              Param #   \n",
      "=================================================================\n",
      "conv2d_3 (Conv2D)            (None, 26, 26, 32)        320       \n",
      "_________________________________________________________________\n",
      "activation_5 (Activation)    (None, 26, 26, 32)        0         \n",
      "_________________________________________________________________\n",
      "max_pooling2d_3 (MaxPooling2 (None, 1, 1, 32)          0         \n",
      "_________________________________________________________________\n",
      "flatten_3 (Flatten)          (None, 32)                0         \n",
      "_________________________________________________________________\n",
      "dense_5 (Dense)              (None, 2)                 66        \n",
      "_________________________________________________________________\n",
      "activation_6 (Activation)    (None, 2)                 0         \n",
      "=================================================================\n",
      "Total params: 386\n",
      "Trainable params: 386\n",
      "Non-trainable params: 0\n",
      "_________________________________________________________________\n"
     ]
    }
   ],
   "source": [
    "model.summary()"
   ]
  },
  {
   "cell_type": "markdown",
   "metadata": {},
   "source": [
    "**Question 1.** From the above summary, can you explain the architecture of this CNN?"
   ]
  },
  {
   "cell_type": "markdown",
   "metadata": {},
   "source": [
    "**Answer 1**. Our model has 6 layers. The first layer is the convolutional layer: our output are 32 filters each of size (28 - 3 + 1) x (28 - 3 + 1), our filter size is 3x3, so we have 32 (9 + 1 bias unit) = 320 parameters. The second layer is activation_1: we basically use the output of the first layer as input. Our third layer is max_pooling: since our pool_size is 26 x 26, which equal to the dimension of each of the filter, so our output's shape is a 1x1x32 array. Our fourth layer is flattern_1, here we take max_pooling_1's output as input and flatten the array. Our fifth layer is dense_1: our input is of size 32, we use nb_classes as the number of output units, so our output is of size 2, the number of parameters = (32 + 1) 2 = 66. Our last layer is activation_2, which uses dense_1 as input."
   ]
  },
  {
   "cell_type": "markdown",
   "metadata": {
    "slideshow": {
     "slide_type": "subslide"
    }
   },
   "source": [
    "**Step 2.** Here, we define the loss function. You will see that the loss function is not Mean Square Error, but Cross Entropy. Cross Entropy is a very popular choice when training neural networks for classification problems."
   ]
  },
  {
   "cell_type": "code",
   "execution_count": 36,
   "metadata": {},
   "outputs": [],
   "source": [
    "model.compile(loss='categorical_crossentropy',\n",
    "              optimizer=sgd,\n",
    "              metrics=['accuracy'])"
   ]
  },
  {
   "cell_type": "markdown",
   "metadata": {
    "slideshow": {
     "slide_type": "subslide"
    }
   },
   "source": [
    "**Step 3.** This line of code trains CNN. This is going to take about a minute. Observe that we will only have 2 epochs of training, for the sake of time. You will see how the accuracy on training and valiadion data evolves during training."
   ]
  },
  {
   "cell_type": "code",
   "execution_count": 37,
   "metadata": {},
   "outputs": [
    {
     "name": "stdout",
     "output_type": "stream",
     "text": [
      "Train on 26265 samples, validate on 10000 samples\n",
      "Epoch 1/2\n",
      "26265/26265 [==============================] - 3s 104us/step - loss: 0.3696 - accuracy: 0.8530 - val_loss: 0.2197 - val_accuracy: 0.9289\n",
      "Epoch 2/2\n",
      "26265/26265 [==============================] - 3s 103us/step - loss: 0.2626 - accuracy: 0.9055 - val_loss: 0.1977 - val_accuracy: 0.9341\n"
     ]
    }
   ],
   "source": [
    "hist = model.fit(X_train, Y_train, batch_size=batch_size, \n",
    "                 epochs=nb_epoch, verbose=1, \n",
    "                 validation_data=(X_test, Y_test))"
   ]
  },
  {
   "cell_type": "markdown",
   "metadata": {},
   "source": [
    "Let us plot the accuracy. "
   ]
  },
  {
   "cell_type": "code",
   "execution_count": 38,
   "metadata": {},
   "outputs": [
    {
     "data": {
      "text/plain": [
       "<matplotlib.legend.Legend at 0x1b10af04390>"
      ]
     },
     "execution_count": 38,
     "metadata": {},
     "output_type": "execute_result"
    },
    {
     "data": {
      "image/png": "[encoded data removed]",
      "text/plain": [
       "<Figure size 432x288 with 1 Axes>"
      ]
     },
     "metadata": {
      "needs_background": "light"
     },
     "output_type": "display_data"
    },
    {
     "data": {
      "image/png": "[encoded data removed]",
      "text/plain": [
       "<Figure size 432x288 with 1 Axes>"
      ]
     },
     "metadata": {
      "needs_background": "light"
     },
     "output_type": "display_data"
    }
   ],
   "source": [
    "import matplotlib.pyplot as plt\n",
    "%matplotlib inline\n",
    "\n",
    "plt.figure()\n",
    "plt.xlabel('Epochs')\n",
    "plt.ylabel('Loss')\n",
    "plt.plot(hist.history['loss'])\n",
    "plt.plot(hist.history['val_loss'])\n",
    "plt.legend(['Training', 'Validation'])\n",
    "\n",
    "plt.figure()\n",
    "plt.xlabel('Epochs')\n",
    "plt.ylabel('Accuracy')\n",
    "plt.plot(hist.history['accuracy'])\n",
    "plt.plot(hist.history['val_accuracy'])\n",
    "plt.legend(['Training', 'Validation'], loc='lower right')"
   ]
  },
  {
   "cell_type": "markdown",
   "metadata": {
    "slideshow": {
     "slide_type": "subslide"
    }
   },
   "source": [
    "**Step 4.** Evaluate the accuracy on test data."
   ]
  },
  {
   "cell_type": "code",
   "execution_count": 39,
   "metadata": {},
   "outputs": [
    {
     "name": "stdout",
     "output_type": "stream",
     "text": [
      "Test Loss: 0.1977082283616066\n",
      "Test Accuracy: 0.9340999722480774\n"
     ]
    }
   ],
   "source": [
    "# Evaluating the model on the test data    \n",
    "loss, accuracy = model.evaluate(X_test, Y_test, verbose=0)\n",
    "print('Test Loss:', loss)\n",
    "print('Test Accuracy:', accuracy)"
   ]
  },
  {
   "cell_type": "markdown",
   "metadata": {
    "slideshow": {
     "slide_type": "subslide"
    }
   },
   "source": [
    "Let us visualize our model Predictions!"
   ]
  },
  {
   "cell_type": "code",
   "execution_count": 40,
   "metadata": {
    "slideshow": {
     "slide_type": "subslide"
    }
   },
   "outputs": [
    {
     "data": {
      "image/png": "[encoded data removed]",
      "text/plain": [
       "<Figure size 1152x576 with 15 Axes>"
      ]
     },
     "metadata": {
      "needs_background": "light"
     },
     "output_type": "display_data"
    }
   ],
   "source": [
    "sliced = 15\n",
    "predicted = model.predict(X_test[:sliced]).argmax(-1)\n",
    "\n",
    "plt.figure(figsize=(16,8))\n",
    "for i in range(sliced):\n",
    "    plt.subplot(1, sliced, i+1)\n",
    "    plt.imshow(X_test_orig[i], interpolation='nearest')\n",
    "    plt.text(0, 0, predicted[i], color='black', \n",
    "             bbox=dict(facecolor='white', alpha=1))\n",
    "    plt.axis('off')"
   ]
  },
  {
   "cell_type": "markdown",
   "metadata": {},
   "source": [
    "**Question 2.** Can you discuss the performance of the CNN model? What kind of errors is it making?"
   ]
  },
  {
   "cell_type": "markdown",
   "metadata": {},
   "source": [
    "**Answer 2.** We are making predictions on 15 test examples and only one of them is 7. The model correctly identifies that as a 7 but it also incorrectly identifies the 1 as a 7. The might be coming from the fact that the 1 has the straight line that resembles the 7."
   ]
  },
  {
   "cell_type": "markdown",
   "metadata": {},
   "source": [
    "**Question 3.** Run the training for 10 epochs. How did it impact the accuracy?"
   ]
  },
  {
   "cell_type": "code",
   "execution_count": 45,
   "metadata": {},
   "outputs": [
    {
     "name": "stdout",
     "output_type": "stream",
     "text": [
      "Train on 26265 samples, validate on 10000 samples\n",
      "Epoch 1/10\n",
      "26265/26265 [==============================] - 3s 105us/step - loss: 0.1986 - accuracy: 0.9272 - val_loss: 0.1275 - val_accuracy: 0.9566\n",
      "Epoch 2/10\n",
      "26265/26265 [==============================] - 3s 103us/step - loss: 0.1968 - accuracy: 0.9261 - val_loss: 0.1155 - val_accuracy: 0.9619\n",
      "Epoch 3/10\n",
      "26265/26265 [==============================] - 3s 103us/step - loss: 0.1955 - accuracy: 0.9289 - val_loss: 0.2185 - val_accuracy: 0.9138\n",
      "Epoch 4/10\n",
      "26265/26265 [==============================] - 3s 103us/step - loss: 0.2000 - accuracy: 0.9269 - val_loss: 0.1525 - val_accuracy: 0.9466\n",
      "Epoch 5/10\n",
      "26265/26265 [==============================] - 3s 105us/step - loss: 0.1936 - accuracy: 0.9286 - val_loss: 0.1178 - val_accuracy: 0.9598\n",
      "Epoch 6/10\n",
      "26265/26265 [==============================] - 3s 103us/step - loss: 0.1919 - accuracy: 0.9298 - val_loss: 0.1234 - val_accuracy: 0.9572\n",
      "Epoch 7/10\n",
      "26265/26265 [==============================] - 3s 106us/step - loss: 0.1926 - accuracy: 0.9288 - val_loss: 0.1541 - val_accuracy: 0.9481\n",
      "Epoch 8/10\n",
      "26265/26265 [==============================] - 3s 107us/step - loss: 0.1914 - accuracy: 0.9288 - val_loss: 0.1138 - val_accuracy: 0.9599\n",
      "Epoch 9/10\n",
      "26265/26265 [==============================] - 3s 103us/step - loss: 0.1913 - accuracy: 0.9281 - val_loss: 0.1537 - val_accuracy: 0.9500\n",
      "Epoch 10/10\n",
      "26265/26265 [==============================] - 3s 103us/step - loss: 0.1920 - accuracy: 0.9294 - val_loss: 0.2208 - val_accuracy: 0.9120\n"
     ]
    }
   ],
   "source": [
    "nb_epoch = 10\n",
    "\n",
    "hist = model.fit(X_train, Y_train, batch_size=batch_size,\n",
    "                 epochs=nb_epoch, verbose = 1,\n",
    "                 validation_data=(X_test, Y_test))"
   ]
  },
  {
   "cell_type": "code",
   "execution_count": 46,
   "metadata": {},
   "outputs": [
    {
     "data": {
      "text/plain": [
       "<matplotlib.legend.Legend at 0x1b10b216518>"
      ]
     },
     "execution_count": 46,
     "metadata": {},
     "output_type": "execute_result"
    },
    {
     "data": {
      "image/png": "[encoded data removed]",
      "text/plain": [
       "<Figure size 432x288 with 1 Axes>"
      ]
     },
     "metadata": {
      "needs_background": "light"
     },
     "output_type": "display_data"
    },
    {
     "data": {
      "image/png": "[encoded data removed]",
      "text/plain": [
       "<Figure size 432x288 with 1 Axes>"
      ]
     },
     "metadata": {
      "needs_background": "light"
     },
     "output_type": "display_data"
    }
   ],
   "source": [
    "plt.figure()\n",
    "plt.xlabel('Epochs')\n",
    "plt.ylabel('Loss')\n",
    "plt.plot(hist.history['loss'])\n",
    "plt.plot(hist.history['val_loss'])\n",
    "plt.legend(['Training', 'Validation'])\n",
    "\n",
    "plt.figure()\n",
    "plt.xlabel('Epochs')\n",
    "plt.ylabel('Accuracy')\n",
    "plt.plot(hist.history['accuracy'])\n",
    "plt.plot(hist.history['val_accuracy'])\n",
    "plt.legend(['Training', 'Validation'], loc='lower right')"
   ]
  },
  {
   "cell_type": "code",
   "execution_count": 47,
   "metadata": {},
   "outputs": [
    {
     "name": "stdout",
     "output_type": "stream",
     "text": [
      "Test Loss: 0.2207808870792389\n",
      "Test Accuracy: 0.9120000004768372\n"
     ]
    }
   ],
   "source": [
    "# Evaluating the model on the test data    \n",
    "loss, accuracy = model.evaluate(X_test, Y_test, verbose=0)\n",
    "print('Test Loss:', loss)\n",
    "print('Test Accuracy:', accuracy)"
   ]
  },
  {
   "cell_type": "code",
   "execution_count": 48,
   "metadata": {},
   "outputs": [
    {
     "data": {
      "image/png": "[encoded data removed]",
      "text/plain": [
       "<Figure size 1152x576 with 15 Axes>"
      ]
     },
     "metadata": {
      "needs_background": "light"
     },
     "output_type": "display_data"
    }
   ],
   "source": [
    "sliced = 15\n",
    "predicted = model.predict(X_test[:sliced]).argmax(-1)\n",
    "\n",
    "plt.figure(figsize=(16,8))\n",
    "for i in range(sliced):\n",
    "    plt.subplot(1, sliced, i+1)\n",
    "    plt.imshow(X_test_orig[i], interpolation='nearest')\n",
    "    plt.text(0, 0, predicted[i], color='black', \n",
    "             bbox=dict(facecolor='white', alpha=1))\n",
    "    plt.axis('off')"
   ]
  },
  {
   "cell_type": "markdown",
   "metadata": {},
   "source": [
    "**Answer 3.** The model still had the same accuracy and predicted one of the labels wrong. It predicted the number 4 to be 7."
   ]
  },
  {
   "cell_type": "markdown",
   "metadata": {
    "slideshow": {
     "slide_type": "slide"
    }
   },
   "source": [
    "### Train a more complicated CNN (CNN, model 2)\n",
    "\n",
    "Now, we will define a more complicated CNN architecture."
   ]
  },
  {
   "cell_type": "code",
   "execution_count": 49,
   "metadata": {
    "slideshow": {
     "slide_type": "subslide"
    }
   },
   "outputs": [],
   "source": [
    "model = Sequential()\n",
    "model.add(Conv2D(nb_filters, (nb_conv, nb_conv),\n",
    "                 padding='valid', input_shape=shape_ord))\n",
    "model.add(Activation('relu'))\n",
    "model.add(MaxPooling2D(pool_size=(nb_pool, nb_pool)))\n",
    "model.add(Flatten())\n",
    "model.add(Dense(128))\n",
    "model.add(Activation('relu'))\n",
    "\n",
    "model.add(Dense(nb_classes))\n",
    "model.add(Activation('softmax'))"
   ]
  },
  {
   "cell_type": "code",
   "execution_count": 50,
   "metadata": {},
   "outputs": [
    {
     "name": "stdout",
     "output_type": "stream",
     "text": [
      "Model: \"sequential_5\"\n",
      "_________________________________________________________________\n",
      "Layer (type)                 Output Shape              Param #   \n",
      "=================================================================\n",
      "conv2d_4 (Conv2D)            (None, 26, 26, 32)        320       \n",
      "_________________________________________________________________\n",
      "activation_7 (Activation)    (None, 26, 26, 32)        0         \n",
      "_________________________________________________________________\n",
      "max_pooling2d_4 (MaxPooling2 (None, 13, 13, 32)        0         \n",
      "_________________________________________________________________\n",
      "flatten_4 (Flatten)          (None, 5408)              0         \n",
      "_________________________________________________________________\n",
      "dense_6 (Dense)              (None, 128)               692352    \n",
      "_________________________________________________________________\n",
      "activation_8 (Activation)    (None, 128)               0         \n",
      "_________________________________________________________________\n",
      "dense_7 (Dense)              (None, 2)                 258       \n",
      "_________________________________________________________________\n",
      "activation_9 (Activation)    (None, 2)                 0         \n",
      "=================================================================\n",
      "Total params: 692,930\n",
      "Trainable params: 692,930\n",
      "Non-trainable params: 0\n",
      "_________________________________________________________________\n"
     ]
    }
   ],
   "source": [
    "model.summary()"
   ]
  },
  {
   "cell_type": "code",
   "execution_count": 51,
   "metadata": {
    "slideshow": {
     "slide_type": "subslide"
    }
   },
   "outputs": [
    {
     "name": "stdout",
     "output_type": "stream",
     "text": [
      "Train on 26265 samples, validate on 10000 samples\n",
      "Epoch 1/10\n",
      "26265/26265 [==============================] - 5s 191us/step - loss: 0.1939 - accuracy: 0.9281 - val_loss: 0.0788 - val_accuracy: 0.9759\n",
      "Epoch 2/10\n",
      "26265/26265 [==============================] - 5s 185us/step - loss: 0.0931 - accuracy: 0.9687 - val_loss: 0.0639 - val_accuracy: 0.9800\n",
      "Epoch 3/10\n",
      "26265/26265 [==============================] - 5s 184us/step - loss: 0.0817 - accuracy: 0.9721 - val_loss: 0.0605 - val_accuracy: 0.9808\n",
      "Epoch 4/10\n",
      "26265/26265 [==============================] - 5s 182us/step - loss: 0.0753 - accuracy: 0.9748 - val_loss: 0.0512 - val_accuracy: 0.9840\n",
      "Epoch 5/10\n",
      "26265/26265 [==============================] - 5s 187us/step - loss: 0.0703 - accuracy: 0.9771 - val_loss: 0.0508 - val_accuracy: 0.9841\n",
      "Epoch 6/10\n",
      "26265/26265 [==============================] - 5s 186us/step - loss: 0.0663 - accuracy: 0.9783 - val_loss: 0.0453 - val_accuracy: 0.9860\n",
      "Epoch 7/10\n",
      "26265/26265 [==============================] - 5s 183us/step - loss: 0.0625 - accuracy: 0.9797 - val_loss: 0.0437 - val_accuracy: 0.9867\n",
      "Epoch 8/10\n",
      "26265/26265 [==============================] - 5s 184us/step - loss: 0.0595 - accuracy: 0.9808 - val_loss: 0.0499 - val_accuracy: 0.9838\n",
      "Epoch 9/10\n",
      "26265/26265 [==============================] - 5s 196us/step - loss: 0.0566 - accuracy: 0.9820 - val_loss: 0.0467 - val_accuracy: 0.9851\n",
      "Epoch 10/10\n",
      "26265/26265 [==============================] - 5s 188us/step - loss: 0.0540 - accuracy: 0.9835 - val_loss: 0.0401 - val_accuracy: 0.9872\n"
     ]
    },
    {
     "data": {
      "text/plain": [
       "<keras.callbacks.callbacks.History at 0x1b10abc0470>"
      ]
     },
     "execution_count": 51,
     "metadata": {},
     "output_type": "execute_result"
    }
   ],
   "source": [
    "model.compile(loss='categorical_crossentropy',\n",
    "              optimizer='sgd',\n",
    "              metrics=['accuracy'])\n",
    "\n",
    "model.fit(X_train, Y_train, batch_size=batch_size, \n",
    "          epochs=nb_epoch,verbose=1,\n",
    "          validation_data=(X_test, Y_test))"
   ]
  },
  {
   "cell_type": "code",
   "execution_count": 52,
   "metadata": {
    "slideshow": {
     "slide_type": "subslide"
    }
   },
   "outputs": [
    {
     "name": "stdout",
     "output_type": "stream",
     "text": [
      "Test score: 0.04011625054273754\n",
      "Test accuracy: 0.9872000217437744\n"
     ]
    }
   ],
   "source": [
    "#Evaluating the model on the test data    \n",
    "score, accuracy = model.evaluate(X_test, Y_test, verbose=0)\n",
    "print('Test score:', score)\n",
    "print('Test accuracy:', accuracy)"
   ]
  },
  {
   "cell_type": "code",
   "execution_count": 54,
   "metadata": {},
   "outputs": [
    {
     "data": {
      "image/png": "[encoded data removed]",
      "text/plain": [
       "<Figure size 1152x576 with 15 Axes>"
      ]
     },
     "metadata": {
      "needs_background": "light"
     },
     "output_type": "display_data"
    }
   ],
   "source": [
    "sliced = 15\n",
    "predicted = model.predict(X_test[:sliced]).argmax(-1)\n",
    "\n",
    "plt.figure(figsize=(16,8))\n",
    "for i in range(sliced):\n",
    "    plt.subplot(1, sliced, i+1)\n",
    "    plt.imshow(X_test_orig[i], interpolation='nearest')\n",
    "    plt.text(0, 0, predicted[i], color='black', \n",
    "             bbox=dict(facecolor='white', alpha=1))\n",
    "    plt.axis('off')"
   ]
  },
  {
   "cell_type": "markdown",
   "metadata": {},
   "source": [
    "**Question 4.** Can you explain the architecture of this CNN (model 2) and how is it different from the first CNN you trained (model 1)? Compare their performance by looking at the visualizstions."
   ]
  },
  {
   "cell_type": "code",
   "execution_count": 55,
   "metadata": {},
   "outputs": [
    {
     "name": "stdout",
     "output_type": "stream",
     "text": [
      "Model: \"sequential_5\"\n",
      "_________________________________________________________________\n",
      "Layer (type)                 Output Shape              Param #   \n",
      "=================================================================\n",
      "conv2d_4 (Conv2D)            (None, 26, 26, 32)        320       \n",
      "_________________________________________________________________\n",
      "activation_7 (Activation)    (None, 26, 26, 32)        0         \n",
      "_________________________________________________________________\n",
      "max_pooling2d_4 (MaxPooling2 (None, 13, 13, 32)        0         \n",
      "_________________________________________________________________\n",
      "flatten_4 (Flatten)          (None, 5408)              0         \n",
      "_________________________________________________________________\n",
      "dense_6 (Dense)              (None, 128)               692352    \n",
      "_________________________________________________________________\n",
      "activation_8 (Activation)    (None, 128)               0         \n",
      "_________________________________________________________________\n",
      "dense_7 (Dense)              (None, 2)                 258       \n",
      "_________________________________________________________________\n",
      "activation_9 (Activation)    (None, 2)                 0         \n",
      "=================================================================\n",
      "Total params: 692,930\n",
      "Trainable params: 692,930\n",
      "Non-trainable params: 0\n",
      "_________________________________________________________________\n"
     ]
    }
   ],
   "source": [
    "model.summary()"
   ]
  },
  {
   "cell_type": "markdown",
   "metadata": {},
   "source": [
    "Unlike model 1, which has 6 layers, this model has 8 layers! The first 2 layers are similar to the first two layers in model 1. However, in the third layer, instead of using pool_size = (26,26), we use pool_size = (nb_pool,nb_pool) where nb_pool = 2, as a result, we end up having output shape of 13 by 13 by 32. Flattenning the pooling result gives a result of size 5408 (=13 x 13 x 32). Our fifth layer takes result of flatten as input and gives an output of size 128, so we end up having 692352 parameters (= 128 * 5408). We use dense_2's output as input for the sixth layer. In the seventh layer, we take it result of dense and produces an output of size nb_classes = 2, so we end up having 258 parameters. Our last layer takes the result of dense_3, and applies softmax regression to obtain the probability. There are two main difference in this model: 1. the number of layers, 2. the pool_size! Just like model 1 with nb_epoch = 10, model 2 does way better than model 1 with nb_epoch = 2"
   ]
  },
  {
   "cell_type": "markdown",
   "metadata": {},
   "source": [
    "In addition this model has much better accuracy than the other 2 ones. It predicts every label correctly and also has 98.7% accuracy compared to 93% and 91%."
   ]
  },
  {
   "cell_type": "markdown",
   "metadata": {},
   "source": [
    "### Adding more convolutional layers and MaxPooling layers (CNN, model 3)\n",
    "\n",
    "Now, we will define an even more complicated CNN architecture."
   ]
  },
  {
   "cell_type": "code",
   "execution_count": 56,
   "metadata": {},
   "outputs": [],
   "source": [
    "model = Sequential()\n",
    "model.add(Conv2D(nb_filters, (nb_conv, nb_conv),\n",
    "                 padding='valid', input_shape=shape_ord))\n",
    "model.add(Activation('relu'))\n",
    "model.add(MaxPooling2D(pool_size=(nb_pool, nb_pool)))\n",
    "model.add(Conv2D(nb_filters, (nb_conv, nb_conv), \n",
    "                 padding='valid'))\n",
    "model.add(MaxPooling2D(pool_size=(nb_pool, nb_pool)))\n",
    "model.add(Flatten())\n",
    "model.add(Dense(nb_classes))\n",
    "model.add(Activation('softmax'))"
   ]
  },
  {
   "cell_type": "code",
   "execution_count": 57,
   "metadata": {},
   "outputs": [
    {
     "name": "stdout",
     "output_type": "stream",
     "text": [
      "Model: \"sequential_6\"\n",
      "_________________________________________________________________\n",
      "Layer (type)                 Output Shape              Param #   \n",
      "=================================================================\n",
      "conv2d_5 (Conv2D)            (None, 26, 26, 32)        320       \n",
      "_________________________________________________________________\n",
      "activation_10 (Activation)   (None, 26, 26, 32)        0         \n",
      "_________________________________________________________________\n",
      "max_pooling2d_5 (MaxPooling2 (None, 13, 13, 32)        0         \n",
      "_________________________________________________________________\n",
      "conv2d_6 (Conv2D)            (None, 11, 11, 32)        9248      \n",
      "_________________________________________________________________\n",
      "max_pooling2d_6 (MaxPooling2 (None, 5, 5, 32)          0         \n",
      "_________________________________________________________________\n",
      "flatten_5 (Flatten)          (None, 800)               0         \n",
      "_________________________________________________________________\n",
      "dense_8 (Dense)              (None, 2)                 1602      \n",
      "_________________________________________________________________\n",
      "activation_11 (Activation)   (None, 2)                 0         \n",
      "=================================================================\n",
      "Total params: 11,170\n",
      "Trainable params: 11,170\n",
      "Non-trainable params: 0\n",
      "_________________________________________________________________\n"
     ]
    }
   ],
   "source": [
    "model.summary()"
   ]
  },
  {
   "cell_type": "code",
   "execution_count": 58,
   "metadata": {},
   "outputs": [
    {
     "name": "stdout",
     "output_type": "stream",
     "text": [
      "Train on 26265 samples, validate on 10000 samples\n",
      "Epoch 1/10\n",
      "26265/26265 [==============================] - 6s 219us/step - loss: 0.3192 - accuracy: 0.8591 - val_loss: 0.1110 - val_accuracy: 0.9734\n",
      "Epoch 2/10\n",
      "26265/26265 [==============================] - 6s 214us/step - loss: 0.1110 - accuracy: 0.9639 - val_loss: 0.0787 - val_accuracy: 0.9766\n",
      "Epoch 3/10\n",
      "26265/26265 [==============================] - 6s 211us/step - loss: 0.0909 - accuracy: 0.9687 - val_loss: 0.0676 - val_accuracy: 0.9787\n",
      "Epoch 4/10\n",
      "26265/26265 [==============================] - 6s 211us/step - loss: 0.0825 - accuracy: 0.9713 - val_loss: 0.0634 - val_accuracy: 0.9798\n",
      "Epoch 5/10\n",
      "26265/26265 [==============================] - 6s 214us/step - loss: 0.0769 - accuracy: 0.9740 - val_loss: 0.0630 - val_accuracy: 0.9800\n",
      "Epoch 6/10\n",
      "26265/26265 [==============================] - 6s 212us/step - loss: 0.0726 - accuracy: 0.9759 - val_loss: 0.0589 - val_accuracy: 0.9806\n",
      "Epoch 7/10\n",
      "26265/26265 [==============================] - 6s 213us/step - loss: 0.0690 - accuracy: 0.9770 - val_loss: 0.0515 - val_accuracy: 0.9832\n",
      "Epoch 8/10\n",
      "26265/26265 [==============================] - 6s 212us/step - loss: 0.0658 - accuracy: 0.9785 - val_loss: 0.0509 - val_accuracy: 0.9831\n",
      "Epoch 9/10\n",
      "26265/26265 [==============================] - 6s 211us/step - loss: 0.0632 - accuracy: 0.9792 - val_loss: 0.0456 - val_accuracy: 0.9860\n",
      "Epoch 10/10\n",
      "26265/26265 [==============================] - 6s 214us/step - loss: 0.0610 - accuracy: 0.9799 - val_loss: 0.0432 - val_accuracy: 0.9870\n"
     ]
    },
    {
     "data": {
      "text/plain": [
       "<keras.callbacks.callbacks.History at 0x1b10a9f0a90>"
      ]
     },
     "execution_count": 58,
     "metadata": {},
     "output_type": "execute_result"
    }
   ],
   "source": [
    "model.compile(loss='categorical_crossentropy',\n",
    "              optimizer='sgd',\n",
    "              metrics=['accuracy'])\n",
    "\n",
    "model.fit(X_train, Y_train, batch_size=batch_size, \n",
    "          epochs=nb_epoch,verbose=1,\n",
    "          validation_data=(X_test, Y_test))"
   ]
  },
  {
   "cell_type": "code",
   "execution_count": 59,
   "metadata": {},
   "outputs": [
    {
     "name": "stdout",
     "output_type": "stream",
     "text": [
      "Test score: 0.043193632795661685\n",
      "Test accuracy: 0.9869999885559082\n"
     ]
    }
   ],
   "source": [
    "#Evaluating the model on the test data    \n",
    "score, accuracy = model.evaluate(X_test, Y_test, verbose=0)\n",
    "print('Test score:', score)\n",
    "print('Test accuracy:', accuracy)"
   ]
  },
  {
   "cell_type": "code",
   "execution_count": 60,
   "metadata": {},
   "outputs": [
    {
     "data": {
      "image/png": "[encoded data removed]",
      "text/plain": [
       "<Figure size 1152x576 with 15 Axes>"
      ]
     },
     "metadata": {
      "needs_background": "light"
     },
     "output_type": "display_data"
    }
   ],
   "source": [
    "sliced = 15\n",
    "predicted = model.predict(X_test[:sliced]).argmax(-1)\n",
    "\n",
    "plt.figure(figsize=(16,8))\n",
    "for i in range(sliced):\n",
    "    plt.subplot(1, sliced, i+1)\n",
    "    plt.imshow(X_test_orig[i], interpolation='nearest')\n",
    "    plt.text(0, 0, predicted[i], color='black', \n",
    "             bbox=dict(facecolor='white', alpha=1))\n",
    "    plt.axis('off')"
   ]
  },
  {
   "cell_type": "markdown",
   "metadata": {},
   "source": [
    "Another 0.2 % lift from 97.8% to 98.0%. This model sees clearly \"9\" is different than \"7\"! "
   ]
  },
  {
   "cell_type": "markdown",
   "metadata": {},
   "source": [
    "### Wrapping all the code together and play with hyperparameters\n",
    "\n",
    "The code below wraps up the pieces of codes above into a single function and allows you to play with the hyperparameters by changing the arguments.\n"
   ]
  },
  {
   "cell_type": "code",
   "execution_count": 61,
   "metadata": {
    "slideshow": {
     "slide_type": "skip"
    }
   },
   "outputs": [],
   "source": [
    "# Function for constructing the convolution neural network\n",
    "# Feel free to add parameters, if you want\n",
    "\n",
    "def build_model(num_conv = 1, conv_activation = \"relu\", num_dense = 1, dense_activation  = \"relu\", \n",
    "               dropout = True, max_pooling = True):\n",
    "    \"\"\"\"\"\"\n",
    "    model = Sequential()\n",
    "    model.add(Conv2D(nb_filters, (nb_conv, nb_conv), \n",
    "                     padding='valid',\n",
    "                     input_shape=shape_ord))\n",
    "    model.add(Activation(conv_activation))\n",
    "    \n",
    "    for i in range(num_conv-1):\n",
    "        model.add(Conv2D(nb_filters, (nb_conv, nb_conv)))\n",
    "        model.add(Activation(conv_activation))\n",
    "        \n",
    "    if max_pooling is True:\n",
    "        model.add(MaxPooling2D(pool_size=(nb_pool, nb_pool)))\n",
    "        \n",
    "    if dropout is True:\n",
    "        model.add(Dropout(0.25))\n",
    "    \n",
    "    model.add(Flatten())\n",
    "\n",
    "    if dropout is True:\n",
    "        model.add(Dropout(0.5))\n",
    "    \n",
    "    for i in range(num_dense-1):\n",
    "        model.add(Dense(128))\n",
    "        model.add(Activation(dense_activation))\n",
    "        \n",
    "    model.add(Dense(nb_classes))\n",
    "    model.add(Activation('softmax'))\n",
    "    \n",
    "    model.compile(loss='categorical_crossentropy',\n",
    "              optimizer='sgd',\n",
    "              metrics=['accuracy'])\n",
    "\n",
    "    model.fit(X_train, Y_train, batch_size=batch_size, \n",
    "              epochs=nb_epoch,verbose=1,\n",
    "              validation_data=(X_test, Y_test))\n",
    "          \n",
    "\n",
    "    #Evaluating the model on the test data    \n",
    "    score, accuracy = model.evaluate(X_test, Y_test, verbose=0)\n",
    "    print(num_conv , 'convolutional layers,', num_dense, \"dense layers\")\n",
    "    if max_pooling: print(\"With max pooling\")\n",
    "    if dropout: print(\"With dropout\")\n",
    "    print('Test score:', score)\n",
    "    print('Test accuracy:', accuracy)\n",
    "    slice = 15\n",
    "    predicted = model.predict(X_test[:slice]).argmax(-1)\n",
    "\n",
    "    plt.figure(figsize=(16,8))\n",
    "    for i in range(slice):\n",
    "        plt.subplot(1, slice, i+1)\n",
    "        plt.imshow(X_test_orig[i], interpolation='nearest')\n",
    "        plt.text(0, 0, predicted[i], color='black', \n",
    "             bbox=dict(facecolor='white', alpha=1))\n",
    "        plt.axis('off')"
   ]
  },
  {
   "cell_type": "markdown",
   "metadata": {},
   "source": [
    "An example of running this function"
   ]
  },
  {
   "cell_type": "code",
   "execution_count": 62,
   "metadata": {},
   "outputs": [
    {
     "name": "stdout",
     "output_type": "stream",
     "text": [
      "Train on 26265 samples, validate on 10000 samples\n",
      "Epoch 1/10\n",
      "26265/26265 [==============================] - 5s 195us/step - loss: 0.2073 - accuracy: 0.9258 - val_loss: 0.0932 - val_accuracy: 0.9751\n",
      "Epoch 2/10\n",
      "26265/26265 [==============================] - 5s 192us/step - loss: 0.1194 - accuracy: 0.9596 - val_loss: 0.0744 - val_accuracy: 0.9782\n",
      "Epoch 3/10\n",
      "26265/26265 [==============================] - 5s 197us/step - loss: 0.1078 - accuracy: 0.9616 - val_loss: 0.0646 - val_accuracy: 0.9805\n",
      "Epoch 4/10\n",
      "26265/26265 [==============================] - 5s 191us/step - loss: 0.1050 - accuracy: 0.9634 - val_loss: 0.0708 - val_accuracy: 0.9788\n",
      "Epoch 5/10\n",
      "26265/26265 [==============================] - 5s 199us/step - loss: 0.1002 - accuracy: 0.9658 - val_loss: 0.0642 - val_accuracy: 0.9806\n",
      "Epoch 6/10\n",
      "26265/26265 [==============================] - 5s 197us/step - loss: 0.0985 - accuracy: 0.9671 - val_loss: 0.0657 - val_accuracy: 0.9797\n",
      "Epoch 7/10\n",
      "26265/26265 [==============================] - 5s 194us/step - loss: 0.0968 - accuracy: 0.9678 - val_loss: 0.0617 - val_accuracy: 0.9812\n",
      "Epoch 8/10\n",
      "26265/26265 [==============================] - 5s 197us/step - loss: 0.0944 - accuracy: 0.9678 - val_loss: 0.0653 - val_accuracy: 0.9803\n",
      "Epoch 9/10\n",
      "26265/26265 [==============================] - 5s 194us/step - loss: 0.0922 - accuracy: 0.9682 - val_loss: 0.0588 - val_accuracy: 0.9827\n",
      "Epoch 10/10\n",
      "26265/26265 [==============================] - 5s 190us/step - loss: 0.0906 - accuracy: 0.9695 - val_loss: 0.0612 - val_accuracy: 0.9813\n",
      "1 convolutional layers, 1 dense layers\n",
      "With max pooling\n",
      "With dropout\n",
      "Test score: 0.06117486082427204\n",
      "Test accuracy: 0.9812999963760376\n"
     ]
    },
    {
     "data": {
      "image/png": "[encoded data removed]",
      "text/plain": [
       "<Figure size 1152x576 with 15 Axes>"
      ]
     },
     "metadata": {
      "needs_background": "light"
     },
     "output_type": "display_data"
    }
   ],
   "source": [
    "# Here is an example of running build_model() with default hyperparameters\n",
    "build_model()"
   ]
  },
  {
   "cell_type": "code",
   "execution_count": 63,
   "metadata": {},
   "outputs": [
    {
     "name": "stdout",
     "output_type": "stream",
     "text": [
      "Train on 26265 samples, validate on 10000 samples\n",
      "Epoch 1/10\n",
      "26265/26265 [==============================] - 22s 819us/step - loss: 0.3267 - accuracy: 0.8578 - val_loss: 0.0752 - val_accuracy: 0.9757\n",
      "Epoch 2/10\n",
      "26265/26265 [==============================] - 22s 821us/step - loss: 0.1143 - accuracy: 0.9608 - val_loss: 0.0706 - val_accuracy: 0.9778\n",
      "Epoch 3/10\n",
      "26265/26265 [==============================] - 22s 839us/step - loss: 0.0980 - accuracy: 0.9667 - val_loss: 0.0559 - val_accuracy: 0.9825\n",
      "Epoch 4/10\n",
      "26265/26265 [==============================] - 21s 801us/step - loss: 0.0860 - accuracy: 0.9708 - val_loss: 0.0478 - val_accuracy: 0.9852\n",
      "Epoch 5/10\n",
      "26265/26265 [==============================] - 22s 827us/step - loss: 0.0776 - accuracy: 0.9741 - val_loss: 0.0453 - val_accuracy: 0.9854\n",
      "Epoch 6/10\n",
      "26265/26265 [==============================] - 21s 802us/step - loss: 0.0706 - accuracy: 0.9770 - val_loss: 0.0418 - val_accuracy: 0.9863\n",
      "Epoch 7/10\n",
      "26265/26265 [==============================] - 22s 828us/step - loss: 0.0638 - accuracy: 0.9786 - val_loss: 0.0375 - val_accuracy: 0.9880\n",
      "Epoch 8/10\n",
      "26265/26265 [==============================] - 22s 824us/step - loss: 0.0593 - accuracy: 0.9810 - val_loss: 0.0336 - val_accuracy: 0.9891\n",
      "Epoch 9/10\n",
      "26265/26265 [==============================] - 21s 808us/step - loss: 0.0555 - accuracy: 0.9823 - val_loss: 0.0329 - val_accuracy: 0.9898\n",
      "Epoch 10/10\n",
      "26265/26265 [==============================] - 21s 804us/step - loss: 0.0537 - accuracy: 0.9824 - val_loss: 0.0302 - val_accuracy: 0.9905\n",
      "3 convolutional layers, 3 dense layers\n",
      "With max pooling\n",
      "With dropout\n",
      "Test score: 0.030155879575479775\n",
      "Test accuracy: 0.9904999732971191\n"
     ]
    },
    {
     "data": {
      "image/png": "[encoded data removed]",
      "text/plain": [
       "<Figure size 1152x576 with 15 Axes>"
      ]
     },
     "metadata": {
      "needs_background": "light"
     },
     "output_type": "display_data"
    }
   ],
   "source": [
    "# Here is an example of running build_model() with new hyperparameters\n",
    "build_model(num_conv = 3, num_dense = 3)"
   ]
  },
  {
   "cell_type": "markdown",
   "metadata": {},
   "source": [
    "This is the best accuracy so far. We have achieved 99% accuracy although it did take a long time to train this model."
   ]
  },
  {
   "cell_type": "code",
   "execution_count": 65,
   "metadata": {},
   "outputs": [
    {
     "name": "stdout",
     "output_type": "stream",
     "text": [
      "Train on 26265 samples, validate on 10000 samples\n",
      "Epoch 1/10\n",
      "26265/26265 [==============================] - 5s 195us/step - loss: 0.2177 - accuracy: 0.9209 - val_loss: 0.0906 - val_accuracy: 0.9767\n",
      "Epoch 2/10\n",
      "26265/26265 [==============================] - 5s 190us/step - loss: 0.1213 - accuracy: 0.9579 - val_loss: 0.0799 - val_accuracy: 0.9774\n",
      "Epoch 3/10\n",
      "26265/26265 [==============================] - 5s 189us/step - loss: 0.1083 - accuracy: 0.9628 - val_loss: 0.0722 - val_accuracy: 0.9786\n",
      "Epoch 4/10\n",
      "26265/26265 [==============================] - 5s 189us/step - loss: 0.1031 - accuracy: 0.9641 - val_loss: 0.0634 - val_accuracy: 0.9811\n",
      "Epoch 5/10\n",
      "26265/26265 [==============================] - 5s 188us/step - loss: 0.1000 - accuracy: 0.9647 - val_loss: 0.0642 - val_accuracy: 0.9812\n",
      "Epoch 6/10\n",
      "26265/26265 [==============================] - 5s 189us/step - loss: 0.0971 - accuracy: 0.9665 - val_loss: 0.0722 - val_accuracy: 0.9783\n",
      "Epoch 7/10\n",
      "26265/26265 [==============================] - 5s 191us/step - loss: 0.0948 - accuracy: 0.9674 - val_loss: 0.0609 - val_accuracy: 0.9822\n",
      "Epoch 8/10\n",
      "26265/26265 [==============================] - 5s 190us/step - loss: 0.0925 - accuracy: 0.9686 - val_loss: 0.0615 - val_accuracy: 0.9817\n",
      "Epoch 9/10\n",
      "26265/26265 [==============================] - 5s 193us/step - loss: 0.0900 - accuracy: 0.9703 - val_loss: 0.0589 - val_accuracy: 0.9829\n",
      "Epoch 10/10\n",
      "26265/26265 [==============================] - 5s 202us/step - loss: 0.0859 - accuracy: 0.9710 - val_loss: 0.0580 - val_accuracy: 0.9830\n",
      "1 convolutional layers, 1 dense layers\n",
      "With max pooling\n",
      "With dropout\n",
      "Test score: 0.05804870711266995\n",
      "Test accuracy: 0.9829999804496765\n",
      "51.2 s ± 0 ns per loop (mean ± std. dev. of 1 run, 1 loop each)\n"
     ]
    },
    {
     "data": {
      "image/png": "[encoded data removed]",
      "text/plain": [
       "<Figure size 1152x576 with 15 Axes>"
      ]
     },
     "metadata": {
      "needs_background": "light"
     },
     "output_type": "display_data"
    }
   ],
   "source": [
    "#Timing how long it takes to build the model and test it.\n",
    "%timeit -n1 -r1 build_model()"
   ]
  },
  {
   "cell_type": "markdown",
   "metadata": {},
   "source": [
    "This model was able to get an accuracy of 98.3% by taking way less time training than the model previous. "
   ]
  },
  {
   "cell_type": "markdown",
   "metadata": {},
   "source": [
    "**Question 5.** Try to change some of the **hyperparameters** without exploding the computational resources on your computer. \n",
    "What is the best accuracy you can get? How many parameters are there of each model? How long does the training take?"
   ]
  },
  {
   "cell_type": "markdown",
   "metadata": {},
   "source": [
    "The number of parameters in all of these models equal to the number of parameters in build_model, which is 6. If we don't specify anything, that means we use the default paramters"
   ]
  },
  {
   "cell_type": "code",
   "execution_count": 66,
   "metadata": {},
   "outputs": [
    {
     "name": "stdout",
     "output_type": "stream",
     "text": [
      "Train on 26265 samples, validate on 10000 samples\n",
      "Epoch 1/10\n",
      "26265/26265 [==============================] - 4s 135us/step - loss: 0.2246 - accuracy: 0.9148 - val_loss: 0.0991 - val_accuracy: 0.9737\n",
      "Epoch 2/10\n",
      "26265/26265 [==============================] - 4s 133us/step - loss: 0.1071 - accuracy: 0.9644 - val_loss: 0.0755 - val_accuracy: 0.9779\n",
      "Epoch 3/10\n",
      "26265/26265 [==============================] - 4s 134us/step - loss: 0.0948 - accuracy: 0.9679 - val_loss: 0.0663 - val_accuracy: 0.9801\n",
      "Epoch 4/10\n",
      "26265/26265 [==============================] - 3s 133us/step - loss: 0.0891 - accuracy: 0.9697 - val_loss: 0.0650 - val_accuracy: 0.9799\n",
      "Epoch 5/10\n",
      "26265/26265 [==============================] - 3s 133us/step - loss: 0.0855 - accuracy: 0.9714 - val_loss: 0.0647 - val_accuracy: 0.9797\n",
      "Epoch 6/10\n",
      "26265/26265 [==============================] - 4s 133us/step - loss: 0.0828 - accuracy: 0.9720 - val_loss: 0.0665 - val_accuracy: 0.9786\n",
      "Epoch 7/10\n",
      "26265/26265 [==============================] - 3s 133us/step - loss: 0.0812 - accuracy: 0.9726 - val_loss: 0.0619 - val_accuracy: 0.9805\n",
      "Epoch 8/10\n",
      "26265/26265 [==============================] - 4s 133us/step - loss: 0.0793 - accuracy: 0.9736 - val_loss: 0.0633 - val_accuracy: 0.9796\n",
      "Epoch 9/10\n",
      "26265/26265 [==============================] - 3s 133us/step - loss: 0.0784 - accuracy: 0.9737 - val_loss: 0.0566 - val_accuracy: 0.9830\n",
      "Epoch 10/10\n",
      "26265/26265 [==============================] - 4s 133us/step - loss: 0.0771 - accuracy: 0.9743 - val_loss: 0.0568 - val_accuracy: 0.9829\n",
      "1 convolutional layers, 1 dense layers\n",
      "With max pooling\n",
      "Test score: 0.05683622493445873\n",
      "Test accuracy: 0.9829000234603882\n",
      "35.8 s ± 0 ns per loop (mean ± std. dev. of 1 run, 1 loop each)\n"
     ]
    },
    {
     "data": {
      "image/png": "[encoded data removed]",
      "text/plain": [
       "<Figure size 1152x576 with 15 Axes>"
      ]
     },
     "metadata": {
      "needs_background": "light"
     },
     "output_type": "display_data"
    }
   ],
   "source": [
    "%timeit -n1 -r1 build_model(dropout = False)"
   ]
  },
  {
   "cell_type": "markdown",
   "metadata": {},
   "source": [
    "Took even less time while having the same accuracy. 36 seconds vs 51 seconds."
   ]
  },
  {
   "cell_type": "code",
   "execution_count": 67,
   "metadata": {},
   "outputs": [
    {
     "name": "stdout",
     "output_type": "stream",
     "text": [
      "Train on 26265 samples, validate on 10000 samples\n",
      "Epoch 1/10\n",
      "26265/26265 [==============================] - 15s 567us/step - loss: 0.2338 - accuracy: 0.9035 - val_loss: 0.0728 - val_accuracy: 0.9777\n",
      "Epoch 2/10\n",
      "26265/26265 [==============================] - 15s 575us/step - loss: 0.1143 - accuracy: 0.9596 - val_loss: 0.0735 - val_accuracy: 0.9760\n",
      "Epoch 3/10\n",
      "26265/26265 [==============================] - 15s 562us/step - loss: 0.0995 - accuracy: 0.9650 - val_loss: 0.0677 - val_accuracy: 0.9785\n",
      "Epoch 4/10\n",
      "26265/26265 [==============================] - 15s 574us/step - loss: 0.0918 - accuracy: 0.9687 - val_loss: 0.0568 - val_accuracy: 0.9821\n",
      "Epoch 5/10\n",
      "26265/26265 [==============================] - 15s 589us/step - loss: 0.0871 - accuracy: 0.9711 - val_loss: 0.0505 - val_accuracy: 0.9844\n",
      "Epoch 6/10\n",
      "26265/26265 [==============================] - 15s 563us/step - loss: 0.0793 - accuracy: 0.9738 - val_loss: 0.0457 - val_accuracy: 0.9857\n",
      "Epoch 7/10\n",
      "26265/26265 [==============================] - 15s 566us/step - loss: 0.0730 - accuracy: 0.9763 - val_loss: 0.0475 - val_accuracy: 0.9852\n",
      "Epoch 8/10\n",
      "26265/26265 [==============================] - 15s 567us/step - loss: 0.0674 - accuracy: 0.9783 - val_loss: 0.0454 - val_accuracy: 0.9862\n",
      "Epoch 9/10\n",
      "26265/26265 [==============================] - 15s 562us/step - loss: 0.0654 - accuracy: 0.9791 - val_loss: 0.0373 - val_accuracy: 0.9885\n",
      "Epoch 10/10\n",
      "26265/26265 [==============================] - 15s 564us/step - loss: 0.0609 - accuracy: 0.9805 - val_loss: 0.0415 - val_accuracy: 0.9870\n",
      "2 convolutional layers, 2 dense layers\n",
      "With max pooling\n",
      "With dropout\n",
      "Test score: 0.04148062356766313\n",
      "Test accuracy: 0.9869999885559082\n",
      "2min 30s ± 0 ns per loop (mean ± std. dev. of 1 run, 1 loop each)\n"
     ]
    },
    {
     "data": {
      "image/png": "[encoded data removed]",
      "text/plain": [
       "<Figure size 1152x576 with 15 Axes>"
      ]
     },
     "metadata": {
      "needs_background": "light"
     },
     "output_type": "display_data"
    }
   ],
   "source": [
    "%timeit -n1 -r1 build_model(num_conv = 2, num_dense = 2)"
   ]
  },
  {
   "cell_type": "markdown",
   "metadata": {},
   "source": [
    "Accuracy went up to 98.7%. A gain of .4% for 2 extra minutes of training."
   ]
  },
  {
   "cell_type": "markdown",
   "metadata": {},
   "source": [
    "#### Question 6 (20% of the grade)\n",
    "\n",
    "Can you train a model to output 10 classes instead of 2 binary classes? We can use this model to classify images into 10 digits of the mnist data set. Again, we will only train our model on a subset of the training data. The following steps will help you to build such a model.\n",
    "\n",
    "    * 1. Select 20,000 examples randomly from X_train, since we want all 10 digits present in our training data.\n",
    "    * 2. Convert Y_train and Y_test to categorical.\n",
    "    * 3. Call the build_model() on the X_train and Y_train."
   ]
  },
  {
   "cell_type": "code",
   "execution_count": 213,
   "metadata": {},
   "outputs": [],
   "source": [
    "(X_train, y_train), (X_test, y_test) = mnist.load_data()\n",
    "X_test_orig = X_test\n",
    "\n",
    "randomEx = np.random.choice(X_train.shape[0], 20000).tolist()\n",
    "X_train = X_train[randomEx, :, :]\n",
    "Y_train = y_train[randomEx]"
   ]
  },
  {
   "cell_type": "code",
   "execution_count": 214,
   "metadata": {},
   "outputs": [],
   "source": [
    "nb_classes = 10\n",
    "Y_train = np_utils.to_categorical(Y_train, nb_classes)\n",
    "Y_test = np_utils.to_categorical(y_test, nb_classes)"
   ]
  },
  {
   "cell_type": "code",
   "execution_count": 215,
   "metadata": {},
   "outputs": [
    {
     "name": "stdout",
     "output_type": "stream",
     "text": [
      "(20000, 28, 28) (10000, 28, 28) (20000, 10) (10000, 10)\n"
     ]
    }
   ],
   "source": [
    "print(X_train.shape, X_test.shape, Y_train.shape, Y_test.shape)"
   ]
  },
  {
   "cell_type": "code",
   "execution_count": 216,
   "metadata": {},
   "outputs": [],
   "source": [
    "img_rows, img_cols = 28, 28\n",
    "\n",
    "if K.image_data_format() == 'channels_first':\n",
    "    shape_ord = (1, img_rows, img_cols)\n",
    "else:  # channel_last\n",
    "    shape_ord = (img_rows, img_cols, 1)\n",
    "\n",
    "# Normalize the images:\n",
    "\n",
    "X_train = X_train.reshape((X_train.shape[0],) + shape_ord)\n",
    "X_test = X_test.reshape((X_test.shape[0],) + shape_ord)\n",
    "\n",
    "X_train = X_train.astype('float32')\n",
    "X_test = X_test.astype('float32')\n",
    "\n",
    "X_train /= 255\n",
    "X_test /= 255"
   ]
  },
  {
   "cell_type": "code",
   "execution_count": 217,
   "metadata": {},
   "outputs": [
    {
     "name": "stdout",
     "output_type": "stream",
     "text": [
      "Train on 20000 samples, validate on 10000 samples\n",
      "Epoch 1/10\n",
      "20000/20000 [==============================] - 5s 245us/step - loss: 0.8195 - accuracy: 0.7586 - val_loss: 0.3594 - val_accuracy: 0.9023\n",
      "Epoch 2/10\n",
      "20000/20000 [==============================] - 5s 232us/step - loss: 0.4555 - accuracy: 0.8595 - val_loss: 0.3201 - val_accuracy: 0.9073\n",
      "Epoch 3/10\n",
      "20000/20000 [==============================] - 5s 233us/step - loss: 0.4043 - accuracy: 0.8744 - val_loss: 0.3065 - val_accuracy: 0.9123\n",
      "Epoch 4/10\n",
      "20000/20000 [==============================] - 5s 233us/step - loss: 0.3711 - accuracy: 0.8902 - val_loss: 0.2940 - val_accuracy: 0.9122\n",
      "Epoch 5/10\n",
      "20000/20000 [==============================] - 5s 237us/step - loss: 0.3502 - accuracy: 0.8946 - val_loss: 0.2655 - val_accuracy: 0.9242\n",
      "Epoch 6/10\n",
      "20000/20000 [==============================] - 5s 242us/step - loss: 0.3166 - accuracy: 0.9064 - val_loss: 0.2474 - val_accuracy: 0.9293\n",
      "Epoch 7/10\n",
      "20000/20000 [==============================] - 5s 234us/step - loss: 0.2951 - accuracy: 0.9123 - val_loss: 0.2328 - val_accuracy: 0.9330\n",
      "Epoch 8/10\n",
      "20000/20000 [==============================] - 5s 239us/step - loss: 0.2689 - accuracy: 0.9190 - val_loss: 0.2105 - val_accuracy: 0.9409\n",
      "Epoch 9/10\n",
      "20000/20000 [==============================] - 5s 242us/step - loss: 0.2488 - accuracy: 0.9273 - val_loss: 0.1927 - val_accuracy: 0.9447\n",
      "Epoch 10/10\n",
      "20000/20000 [==============================] - 5s 235us/step - loss: 0.2261 - accuracy: 0.9330 - val_loss: 0.1797 - val_accuracy: 0.9476\n",
      "1 convolutional layers, 1 dense layers\n",
      "With max pooling\n",
      "With dropout\n",
      "Test score: 0.17974569824784994\n",
      "Test accuracy: 0.9476000070571899\n"
     ]
    },
    {
     "data": {
      "image/png": "[encoded data removed]",
      "text/plain": [
       "<Figure size 1152x576 with 15 Axes>"
      ]
     },
     "metadata": {
      "needs_background": "light"
     },
     "output_type": "display_data"
    }
   ],
   "source": [
    "build_model()"
   ]
  },
  {
   "cell_type": "markdown",
   "metadata": {},
   "source": [
    "The result is actually pretty good. It almost has 95% accuracy and as far as the labels it only got one wrong. It predicted the 5 to be 6. Although that is a fairly poor written 5."
   ]
  },
  {
   "cell_type": "markdown",
   "metadata": {},
   "source": [
    "#### Question 7 (30% of the grade) \n",
    "\n",
    "Train a model on CIFAR10 dataset, which is described in https://www.cs.toronto.edu/~kriz/cifar.html. You can load the dataset from Keras, too. CIFAR10 small image classification contains 50,000 32x32 color training images, labeled over 10 categories, and 10,000 test images.\n",
    "\n",
    "```python\n",
    "from keras.datasets import cifar10\n",
    "(x_train, y_train), (x_test, y_test) = cifar10.load_data()\n",
    "```\n",
    "\n",
    "Again, we will only train our model on a subset of the training data. The following steps will help you to build such a model.\n",
    "\n",
    "    * 1. Select 20,000 examples randomly from X_train, since we want all 10 categories present in our training data.\n",
    "    * 2. Convert Y_train and Y_test to categorical.\n",
    "    * 3. Call the build_model() on the X_train and Y_train."
   ]
  },
  {
   "cell_type": "code",
   "execution_count": 232,
   "metadata": {},
   "outputs": [],
   "source": [
    "from keras.datasets import cifar10\n",
    "(x_train, y_train), (x_test, y_test) = cifar10.load_data()\n",
    "X_test_orig = x_test\n",
    "\n",
    "randomEx = np.random.choice(x_train.shape[0], 20000).tolist()\n",
    "X_train = x_train[randomEx, :, :]\n",
    "X_test = x_test\n",
    "Y_train = y_train[randomEx]\n",
    "\n",
    "nb_classes = 10\n",
    "Y_train = np_utils.to_categorical(Y_train, nb_classes)\n",
    "Y_test = np_utils.to_categorical(y_test, nb_classes)"
   ]
  },
  {
   "cell_type": "code",
   "execution_count": 233,
   "metadata": {},
   "outputs": [
    {
     "name": "stdout",
     "output_type": "stream",
     "text": [
      "(20000, 32, 32, 3) (10000, 32, 32, 3) (20000, 10) (10000, 10)\n"
     ]
    }
   ],
   "source": [
    "print(X_train.shape, X_test.shape, Y_train.shape, Y_test.shape)"
   ]
  },
  {
   "cell_type": "code",
   "execution_count": 235,
   "metadata": {},
   "outputs": [
    {
     "name": "stdout",
     "output_type": "stream",
     "text": [
      "255 255 1.0 1.0\n",
      "0 0 0.0 0.0\n"
     ]
    }
   ],
   "source": [
    "print(X_train.max(), X_test.max(), Y_train.max(), Y_test.max())\n",
    "print(X_train.min(), X_test.min(), Y_train.min(), Y_test.min())\n"
   ]
  },
  {
   "cell_type": "code",
   "execution_count": 236,
   "metadata": {},
   "outputs": [],
   "source": [
    "X_train = X_train.astype('float32')\n",
    "X_test = X_test.astype('float32')\n",
    "\n",
    "X_train /= 255\n",
    "X_test /= 255"
   ]
  },
  {
   "cell_type": "code",
   "execution_count": 237,
   "metadata": {},
   "outputs": [
    {
     "name": "stdout",
     "output_type": "stream",
     "text": [
      "(20000, 32, 32, 3) (10000, 32, 32, 3) (20000, 10) (10000, 10)\n"
     ]
    }
   ],
   "source": [
    "print(X_train.shape, X_test.shape, Y_train.shape, Y_test.shape)"
   ]
  },
  {
   "cell_type": "code",
   "execution_count": 238,
   "metadata": {},
   "outputs": [],
   "source": [
    "shape_ord = (32, 32, 3)"
   ]
  },
  {
   "cell_type": "code",
   "execution_count": 240,
   "metadata": {},
   "outputs": [
    {
     "name": "stdout",
     "output_type": "stream",
     "text": [
      "Train on 20000 samples, validate on 10000 samples\n",
      "Epoch 1/10\n",
      "20000/20000 [==============================] - 19s 972us/step - loss: 2.0547 - accuracy: 0.2488 - val_loss: 1.8435 - val_accuracy: 0.3572\n",
      "Epoch 2/10\n",
      "20000/20000 [==============================] - 19s 957us/step - loss: 1.7690 - accuracy: 0.3666 - val_loss: 1.6192 - val_accuracy: 0.4236\n",
      "Epoch 3/10\n",
      "20000/20000 [==============================] - 19s 968us/step - loss: 1.5884 - accuracy: 0.4274 - val_loss: 1.4739 - val_accuracy: 0.4745\n",
      "Epoch 4/10\n",
      "20000/20000 [==============================] - 19s 970us/step - loss: 1.4780 - accuracy: 0.4685 - val_loss: 1.3922 - val_accuracy: 0.5045\n",
      "Epoch 5/10\n",
      "20000/20000 [==============================] - 19s 949us/step - loss: 1.3858 - accuracy: 0.5074 - val_loss: 1.3457 - val_accuracy: 0.5193\n",
      "Epoch 6/10\n",
      "20000/20000 [==============================] - 19s 950us/step - loss: 1.3171 - accuracy: 0.5257 - val_loss: 1.2961 - val_accuracy: 0.5403\n",
      "Epoch 7/10\n",
      "20000/20000 [==============================] - 19s 949us/step - loss: 1.2643 - accuracy: 0.5477 - val_loss: 1.2543 - val_accuracy: 0.5572\n",
      "Epoch 8/10\n",
      "20000/20000 [==============================] - 19s 954us/step - loss: 1.2101 - accuracy: 0.5695 - val_loss: 1.2202 - val_accuracy: 0.5699\n",
      "Epoch 9/10\n",
      "20000/20000 [==============================] - 19s 949us/step - loss: 1.1659 - accuracy: 0.5849 - val_loss: 1.2339 - val_accuracy: 0.5676\n",
      "Epoch 10/10\n",
      "20000/20000 [==============================] - 19s 950us/step - loss: 1.1168 - accuracy: 0.6021 - val_loss: 1.1951 - val_accuracy: 0.5791\n",
      "2 convolutional layers, 2 dense layers\n",
      "With max pooling\n",
      "With dropout\n",
      "Test score: 1.1951097818374634\n",
      "Test accuracy: 0.5791000127792358\n",
      "3min 13s ± 0 ns per loop (mean ± std. dev. of 1 run, 1 loop each)\n"
     ]
    },
    {
     "data": {
      "image/png": "[encoded data removed]",
      "text/plain": [
       "<Figure size 1152x576 with 15 Axes>"
      ]
     },
     "metadata": {
      "needs_background": "light"
     },
     "output_type": "display_data"
    }
   ],
   "source": [
    "%timeit -n1 -r1 build_model(num_conv = 2, num_dense = 2)"
   ]
  },
  {
   "cell_type": "markdown",
   "metadata": {},
   "source": [
    "I was able to achieve 58% accuracy by using num_conv = 2, num_dense = 2. This is still far from being a predictor but I believe by training a lot longer with more eponch and higher conv and dense I can get at least up to 70% accuracy. In the sample above it is having a hard time telling the difference between frog and deer and airplane and ship. "
   ]
  }
 ],
 "metadata": {
  "anaconda-cloud": {},
  "kernelspec": {
   "display_name": "Python 3",
   "language": "python",
   "name": "python3"
  },
  "language_info": {
   "codemirror_mode": {
    "name": "ipython",
    "version": 3
   },
   "file_extension": ".py",
   "mimetype": "text/x-python",
   "name": "python",
   "nbconvert_exporter": "python",
   "pygments_lexer": "ipython3",
   "version": "3.7.0"
  }
 },
 "nbformat": 4,
 "nbformat_minor": 4
}
